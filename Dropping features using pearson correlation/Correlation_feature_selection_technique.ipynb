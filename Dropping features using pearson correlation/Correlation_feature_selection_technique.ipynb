{
 "cells": [
  {
   "cell_type": "markdown",
   "id": "82cc5409",
   "metadata": {},
   "source": [
    "# Feature selection technique using the Pearson Correlation coefficent"
   ]
  },
  {
   "cell_type": "code",
   "execution_count": 1,
   "id": "ad735897",
   "metadata": {},
   "outputs": [],
   "source": [
    "import pandas as pd\n",
    "import numpy as np\n",
    "import matplotlib.pyplot as plt\n",
    "import seaborn as sns"
   ]
  },
  {
   "cell_type": "code",
   "execution_count": 2,
   "id": "0dba035e",
   "metadata": {},
   "outputs": [
    {
     "name": "stderr",
     "output_type": "stream",
     "text": [
      "C:\\Users\\User\\AppData\\Local\\Programs\\Python\\Python310\\lib\\site-packages\\sklearn\\utils\\deprecation.py:87: FutureWarning: Function load_boston is deprecated; `load_boston` is deprecated in 1.0 and will be removed in 1.2.\n",
      "\n",
      "    The Boston housing prices dataset has an ethical problem. You can refer to\n",
      "    the documentation of this function for further details.\n",
      "\n",
      "    The scikit-learn maintainers therefore strongly discourage the use of this\n",
      "    dataset unless the purpose of the code is to study and educate about\n",
      "    ethical issues in data science and machine learning.\n",
      "\n",
      "    In this special case, you can fetch the dataset from the original\n",
      "    source::\n",
      "\n",
      "        import pandas as pd\n",
      "        import numpy as np\n",
      "\n",
      "        data_url = \"http://lib.stat.cmu.edu/datasets/boston\"\n",
      "        raw_df = pd.read_csv(data_url, sep=\"\\s+\", skiprows=22, header=None)\n",
      "        data = np.hstack([raw_df.values[::2, :], raw_df.values[1::2, :2]])\n",
      "        target = raw_df.values[1::2, 2]\n",
      "\n",
      "    Alternative datasets include the California housing dataset (i.e.\n",
      "    :func:`~sklearn.datasets.fetch_california_housing`) and the Ames housing\n",
      "    dataset. You can load the datasets as follows::\n",
      "\n",
      "        from sklearn.datasets import fetch_california_housing\n",
      "        housing = fetch_california_housing()\n",
      "\n",
      "    for the California housing dataset and::\n",
      "\n",
      "        from sklearn.datasets import fetch_openml\n",
      "        housing = fetch_openml(name=\"house_prices\", as_frame=True)\n",
      "\n",
      "    for the Ames housing dataset.\n",
      "  warnings.warn(msg, category=FutureWarning)\n"
     ]
    }
   ],
   "source": [
    "from sklearn.datasets import load_boston\n",
    "data = load_boston()\n",
    "df = pd.DataFrame(data.data,columns = data.feature_names)\n",
    "df['MEFV'] = data.target"
   ]
  },
  {
   "cell_type": "code",
   "execution_count": 3,
   "id": "1d0aafb9",
   "metadata": {},
   "outputs": [
    {
     "data": {
      "text/html": [
       "<div>\n",
       "<style scoped>\n",
       "    .dataframe tbody tr th:only-of-type {\n",
       "        vertical-align: middle;\n",
       "    }\n",
       "\n",
       "    .dataframe tbody tr th {\n",
       "        vertical-align: top;\n",
       "    }\n",
       "\n",
       "    .dataframe thead th {\n",
       "        text-align: right;\n",
       "    }\n",
       "</style>\n",
       "<table border=\"1\" class=\"dataframe\">\n",
       "  <thead>\n",
       "    <tr style=\"text-align: right;\">\n",
       "      <th></th>\n",
       "      <th>CRIM</th>\n",
       "      <th>ZN</th>\n",
       "      <th>INDUS</th>\n",
       "      <th>CHAS</th>\n",
       "      <th>NOX</th>\n",
       "      <th>RM</th>\n",
       "      <th>AGE</th>\n",
       "      <th>DIS</th>\n",
       "      <th>RAD</th>\n",
       "      <th>TAX</th>\n",
       "      <th>PTRATIO</th>\n",
       "      <th>B</th>\n",
       "      <th>LSTAT</th>\n",
       "      <th>MEFV</th>\n",
       "    </tr>\n",
       "  </thead>\n",
       "  <tbody>\n",
       "    <tr>\n",
       "      <th>0</th>\n",
       "      <td>0.00632</td>\n",
       "      <td>18.0</td>\n",
       "      <td>2.31</td>\n",
       "      <td>0.0</td>\n",
       "      <td>0.538</td>\n",
       "      <td>6.575</td>\n",
       "      <td>65.2</td>\n",
       "      <td>4.0900</td>\n",
       "      <td>1.0</td>\n",
       "      <td>296.0</td>\n",
       "      <td>15.3</td>\n",
       "      <td>396.90</td>\n",
       "      <td>4.98</td>\n",
       "      <td>24.0</td>\n",
       "    </tr>\n",
       "    <tr>\n",
       "      <th>1</th>\n",
       "      <td>0.02731</td>\n",
       "      <td>0.0</td>\n",
       "      <td>7.07</td>\n",
       "      <td>0.0</td>\n",
       "      <td>0.469</td>\n",
       "      <td>6.421</td>\n",
       "      <td>78.9</td>\n",
       "      <td>4.9671</td>\n",
       "      <td>2.0</td>\n",
       "      <td>242.0</td>\n",
       "      <td>17.8</td>\n",
       "      <td>396.90</td>\n",
       "      <td>9.14</td>\n",
       "      <td>21.6</td>\n",
       "    </tr>\n",
       "    <tr>\n",
       "      <th>2</th>\n",
       "      <td>0.02729</td>\n",
       "      <td>0.0</td>\n",
       "      <td>7.07</td>\n",
       "      <td>0.0</td>\n",
       "      <td>0.469</td>\n",
       "      <td>7.185</td>\n",
       "      <td>61.1</td>\n",
       "      <td>4.9671</td>\n",
       "      <td>2.0</td>\n",
       "      <td>242.0</td>\n",
       "      <td>17.8</td>\n",
       "      <td>392.83</td>\n",
       "      <td>4.03</td>\n",
       "      <td>34.7</td>\n",
       "    </tr>\n",
       "    <tr>\n",
       "      <th>3</th>\n",
       "      <td>0.03237</td>\n",
       "      <td>0.0</td>\n",
       "      <td>2.18</td>\n",
       "      <td>0.0</td>\n",
       "      <td>0.458</td>\n",
       "      <td>6.998</td>\n",
       "      <td>45.8</td>\n",
       "      <td>6.0622</td>\n",
       "      <td>3.0</td>\n",
       "      <td>222.0</td>\n",
       "      <td>18.7</td>\n",
       "      <td>394.63</td>\n",
       "      <td>2.94</td>\n",
       "      <td>33.4</td>\n",
       "    </tr>\n",
       "    <tr>\n",
       "      <th>4</th>\n",
       "      <td>0.06905</td>\n",
       "      <td>0.0</td>\n",
       "      <td>2.18</td>\n",
       "      <td>0.0</td>\n",
       "      <td>0.458</td>\n",
       "      <td>7.147</td>\n",
       "      <td>54.2</td>\n",
       "      <td>6.0622</td>\n",
       "      <td>3.0</td>\n",
       "      <td>222.0</td>\n",
       "      <td>18.7</td>\n",
       "      <td>396.90</td>\n",
       "      <td>5.33</td>\n",
       "      <td>36.2</td>\n",
       "    </tr>\n",
       "  </tbody>\n",
       "</table>\n",
       "</div>"
      ],
      "text/plain": [
       "      CRIM    ZN  INDUS  CHAS    NOX     RM   AGE     DIS  RAD    TAX  \\\n",
       "0  0.00632  18.0   2.31   0.0  0.538  6.575  65.2  4.0900  1.0  296.0   \n",
       "1  0.02731   0.0   7.07   0.0  0.469  6.421  78.9  4.9671  2.0  242.0   \n",
       "2  0.02729   0.0   7.07   0.0  0.469  7.185  61.1  4.9671  2.0  242.0   \n",
       "3  0.03237   0.0   2.18   0.0  0.458  6.998  45.8  6.0622  3.0  222.0   \n",
       "4  0.06905   0.0   2.18   0.0  0.458  7.147  54.2  6.0622  3.0  222.0   \n",
       "\n",
       "   PTRATIO       B  LSTAT  MEFV  \n",
       "0     15.3  396.90   4.98  24.0  \n",
       "1     17.8  396.90   9.14  21.6  \n",
       "2     17.8  392.83   4.03  34.7  \n",
       "3     18.7  394.63   2.94  33.4  \n",
       "4     18.7  396.90   5.33  36.2  "
      ]
     },
     "execution_count": 3,
     "metadata": {},
     "output_type": "execute_result"
    }
   ],
   "source": [
    "df.head()"
   ]
  },
  {
   "cell_type": "code",
   "execution_count": 4,
   "id": "bf7190e4",
   "metadata": {},
   "outputs": [
    {
     "data": {
      "text/html": [
       "<style>#sk-container-id-1 {color: black;background-color: white;}#sk-container-id-1 pre{padding: 0;}#sk-container-id-1 div.sk-toggleable {background-color: white;}#sk-container-id-1 label.sk-toggleable__label {cursor: pointer;display: block;width: 100%;margin-bottom: 0;padding: 0.3em;box-sizing: border-box;text-align: center;}#sk-container-id-1 label.sk-toggleable__label-arrow:before {content: \"▸\";float: left;margin-right: 0.25em;color: #696969;}#sk-container-id-1 label.sk-toggleable__label-arrow:hover:before {color: black;}#sk-container-id-1 div.sk-estimator:hover label.sk-toggleable__label-arrow:before {color: black;}#sk-container-id-1 div.sk-toggleable__content {max-height: 0;max-width: 0;overflow: hidden;text-align: left;background-color: #f0f8ff;}#sk-container-id-1 div.sk-toggleable__content pre {margin: 0.2em;color: black;border-radius: 0.25em;background-color: #f0f8ff;}#sk-container-id-1 input.sk-toggleable__control:checked~div.sk-toggleable__content {max-height: 200px;max-width: 100%;overflow: auto;}#sk-container-id-1 input.sk-toggleable__control:checked~label.sk-toggleable__label-arrow:before {content: \"▾\";}#sk-container-id-1 div.sk-estimator input.sk-toggleable__control:checked~label.sk-toggleable__label {background-color: #d4ebff;}#sk-container-id-1 div.sk-label input.sk-toggleable__control:checked~label.sk-toggleable__label {background-color: #d4ebff;}#sk-container-id-1 input.sk-hidden--visually {border: 0;clip: rect(1px 1px 1px 1px);clip: rect(1px, 1px, 1px, 1px);height: 1px;margin: -1px;overflow: hidden;padding: 0;position: absolute;width: 1px;}#sk-container-id-1 div.sk-estimator {font-family: monospace;background-color: #f0f8ff;border: 1px dotted black;border-radius: 0.25em;box-sizing: border-box;margin-bottom: 0.5em;}#sk-container-id-1 div.sk-estimator:hover {background-color: #d4ebff;}#sk-container-id-1 div.sk-parallel-item::after {content: \"\";width: 100%;border-bottom: 1px solid gray;flex-grow: 1;}#sk-container-id-1 div.sk-label:hover label.sk-toggleable__label {background-color: #d4ebff;}#sk-container-id-1 div.sk-serial::before {content: \"\";position: absolute;border-left: 1px solid gray;box-sizing: border-box;top: 0;bottom: 0;left: 50%;z-index: 0;}#sk-container-id-1 div.sk-serial {display: flex;flex-direction: column;align-items: center;background-color: white;padding-right: 0.2em;padding-left: 0.2em;position: relative;}#sk-container-id-1 div.sk-item {position: relative;z-index: 1;}#sk-container-id-1 div.sk-parallel {display: flex;align-items: stretch;justify-content: center;background-color: white;position: relative;}#sk-container-id-1 div.sk-item::before, #sk-container-id-1 div.sk-parallel-item::before {content: \"\";position: absolute;border-left: 1px solid gray;box-sizing: border-box;top: 0;bottom: 0;left: 50%;z-index: -1;}#sk-container-id-1 div.sk-parallel-item {display: flex;flex-direction: column;z-index: 1;position: relative;background-color: white;}#sk-container-id-1 div.sk-parallel-item:first-child::after {align-self: flex-end;width: 50%;}#sk-container-id-1 div.sk-parallel-item:last-child::after {align-self: flex-start;width: 50%;}#sk-container-id-1 div.sk-parallel-item:only-child::after {width: 0;}#sk-container-id-1 div.sk-dashed-wrapped {border: 1px dashed gray;margin: 0 0.4em 0.5em 0.4em;box-sizing: border-box;padding-bottom: 0.4em;background-color: white;}#sk-container-id-1 div.sk-label label {font-family: monospace;font-weight: bold;display: inline-block;line-height: 1.2em;}#sk-container-id-1 div.sk-label-container {text-align: center;}#sk-container-id-1 div.sk-container {/* jupyter's `normalize.less` sets `[hidden] { display: none; }` but bootstrap.min.css set `[hidden] { display: none !important; }` so we also need the `!important` here to be able to override the default hidden behavior on the sphinx rendered scikit-learn.org. See: https://github.com/scikit-learn/scikit-learn/issues/21755 */display: inline-block !important;position: relative;}#sk-container-id-1 div.sk-text-repr-fallback {display: none;}</style><div id=\"sk-container-id-1\" class=\"sk-top-container\"><div class=\"sk-text-repr-fallback\"><pre>VarianceThreshold(threshold=0)</pre><b>In a Jupyter environment, please rerun this cell to show the HTML representation or trust the notebook. <br />On GitHub, the HTML representation is unable to render, please try loading this page with nbviewer.org.</b></div><div class=\"sk-container\" hidden><div class=\"sk-item\"><div class=\"sk-estimator sk-toggleable\"><input class=\"sk-toggleable__control sk-hidden--visually\" id=\"sk-estimator-id-1\" type=\"checkbox\" checked><label for=\"sk-estimator-id-1\" class=\"sk-toggleable__label sk-toggleable__label-arrow\">VarianceThreshold</label><div class=\"sk-toggleable__content\"><pre>VarianceThreshold(threshold=0)</pre></div></div></div></div></div>"
      ],
      "text/plain": [
       "VarianceThreshold(threshold=0)"
      ]
     },
     "execution_count": 4,
     "metadata": {},
     "output_type": "execute_result"
    }
   ],
   "source": [
    "from sklearn.feature_selection import VarianceThreshold\n",
    "var_thres = VarianceThreshold(threshold = 0)\n",
    "var_thres.fit(df)"
   ]
  },
  {
   "cell_type": "code",
   "execution_count": 5,
   "id": "a8bd47e2",
   "metadata": {},
   "outputs": [
    {
     "data": {
      "text/plain": [
       "0"
      ]
     },
     "execution_count": 5,
     "metadata": {},
     "output_type": "execute_result"
    }
   ],
   "source": [
    "constant_columns = [column for column in df.columns\n",
    "                   if column not in df.columns[var_thres.get_support()]]\n",
    "len(constant_columns)"
   ]
  },
  {
   "cell_type": "code",
   "execution_count": 6,
   "id": "10491e2c",
   "metadata": {},
   "outputs": [],
   "source": [
    "# seems like there are 0 constant columns"
   ]
  },
  {
   "cell_type": "code",
   "execution_count": 7,
   "id": "dd64eb57",
   "metadata": {},
   "outputs": [
    {
     "name": "stdout",
     "output_type": "stream",
     "text": [
      "<class 'pandas.core.frame.DataFrame'>\n",
      "RangeIndex: 506 entries, 0 to 505\n",
      "Data columns (total 14 columns):\n",
      " #   Column   Non-Null Count  Dtype  \n",
      "---  ------   --------------  -----  \n",
      " 0   CRIM     506 non-null    float64\n",
      " 1   ZN       506 non-null    float64\n",
      " 2   INDUS    506 non-null    float64\n",
      " 3   CHAS     506 non-null    float64\n",
      " 4   NOX      506 non-null    float64\n",
      " 5   RM       506 non-null    float64\n",
      " 6   AGE      506 non-null    float64\n",
      " 7   DIS      506 non-null    float64\n",
      " 8   RAD      506 non-null    float64\n",
      " 9   TAX      506 non-null    float64\n",
      " 10  PTRATIO  506 non-null    float64\n",
      " 11  B        506 non-null    float64\n",
      " 12  LSTAT    506 non-null    float64\n",
      " 13  MEFV     506 non-null    float64\n",
      "dtypes: float64(14)\n",
      "memory usage: 55.5 KB\n"
     ]
    }
   ],
   "source": [
    "df.info()"
   ]
  },
  {
   "cell_type": "code",
   "execution_count": 8,
   "id": "c937c181",
   "metadata": {},
   "outputs": [],
   "source": [
    "X = df.drop(\"MEFV\",axis=1)\n",
    "y = df['MEFV']"
   ]
  },
  {
   "cell_type": "code",
   "execution_count": 9,
   "id": "6f76b125",
   "metadata": {},
   "outputs": [
    {
     "data": {
      "text/plain": [
       "(506, 13)"
      ]
     },
     "execution_count": 9,
     "metadata": {},
     "output_type": "execute_result"
    }
   ],
   "source": [
    "X.shape\n"
   ]
  },
  {
   "cell_type": "code",
   "execution_count": 10,
   "id": "cc123119",
   "metadata": {},
   "outputs": [
    {
     "data": {
      "text/plain": [
       "(506,)"
      ]
     },
     "execution_count": 10,
     "metadata": {},
     "output_type": "execute_result"
    }
   ],
   "source": [
    "y.shape"
   ]
  },
  {
   "cell_type": "code",
   "execution_count": 11,
   "id": "3f7ef03a",
   "metadata": {},
   "outputs": [],
   "source": [
    "from sklearn.model_selection import train_test_split\n",
    "\n",
    "X_train,X_test,y_train,y_test = train_test_split(X,y,test_size=0.2,random_state=0)"
   ]
  },
  {
   "cell_type": "code",
   "execution_count": null,
   "id": "97a6b12f",
   "metadata": {},
   "outputs": [],
   "source": []
  },
  {
   "cell_type": "code",
   "execution_count": 12,
   "id": "9b9b6cb2",
   "metadata": {},
   "outputs": [
    {
     "data": {
      "text/html": [
       "<div>\n",
       "<style scoped>\n",
       "    .dataframe tbody tr th:only-of-type {\n",
       "        vertical-align: middle;\n",
       "    }\n",
       "\n",
       "    .dataframe tbody tr th {\n",
       "        vertical-align: top;\n",
       "    }\n",
       "\n",
       "    .dataframe thead th {\n",
       "        text-align: right;\n",
       "    }\n",
       "</style>\n",
       "<table border=\"1\" class=\"dataframe\">\n",
       "  <thead>\n",
       "    <tr style=\"text-align: right;\">\n",
       "      <th></th>\n",
       "      <th>CRIM</th>\n",
       "      <th>ZN</th>\n",
       "      <th>INDUS</th>\n",
       "      <th>CHAS</th>\n",
       "      <th>NOX</th>\n",
       "      <th>RM</th>\n",
       "      <th>AGE</th>\n",
       "      <th>DIS</th>\n",
       "      <th>RAD</th>\n",
       "      <th>TAX</th>\n",
       "      <th>PTRATIO</th>\n",
       "      <th>B</th>\n",
       "      <th>LSTAT</th>\n",
       "    </tr>\n",
       "  </thead>\n",
       "  <tbody>\n",
       "    <tr>\n",
       "      <th>CRIM</th>\n",
       "      <td>1.000000</td>\n",
       "      <td>-0.203052</td>\n",
       "      <td>0.394004</td>\n",
       "      <td>-0.059438</td>\n",
       "      <td>0.437684</td>\n",
       "      <td>-0.196545</td>\n",
       "      <td>0.340676</td>\n",
       "      <td>-0.372582</td>\n",
       "      <td>0.625828</td>\n",
       "      <td>0.578899</td>\n",
       "      <td>0.280752</td>\n",
       "      <td>-0.331379</td>\n",
       "      <td>0.464403</td>\n",
       "    </tr>\n",
       "    <tr>\n",
       "      <th>ZN</th>\n",
       "      <td>-0.203052</td>\n",
       "      <td>1.000000</td>\n",
       "      <td>-0.534523</td>\n",
       "      <td>-0.024872</td>\n",
       "      <td>-0.527536</td>\n",
       "      <td>0.348199</td>\n",
       "      <td>-0.585812</td>\n",
       "      <td>0.656658</td>\n",
       "      <td>-0.313497</td>\n",
       "      <td>-0.329665</td>\n",
       "      <td>-0.396806</td>\n",
       "      <td>0.171123</td>\n",
       "      <td>-0.428584</td>\n",
       "    </tr>\n",
       "    <tr>\n",
       "      <th>INDUS</th>\n",
       "      <td>0.394004</td>\n",
       "      <td>-0.534523</td>\n",
       "      <td>1.000000</td>\n",
       "      <td>0.019945</td>\n",
       "      <td>0.757107</td>\n",
       "      <td>-0.405883</td>\n",
       "      <td>0.635978</td>\n",
       "      <td>-0.699502</td>\n",
       "      <td>0.573361</td>\n",
       "      <td>0.720073</td>\n",
       "      <td>0.390679</td>\n",
       "      <td>-0.342290</td>\n",
       "      <td>0.606026</td>\n",
       "    </tr>\n",
       "    <tr>\n",
       "      <th>CHAS</th>\n",
       "      <td>-0.059438</td>\n",
       "      <td>-0.024872</td>\n",
       "      <td>0.019945</td>\n",
       "      <td>1.000000</td>\n",
       "      <td>0.032281</td>\n",
       "      <td>0.107340</td>\n",
       "      <td>0.048548</td>\n",
       "      <td>-0.071933</td>\n",
       "      <td>-0.010475</td>\n",
       "      <td>-0.048810</td>\n",
       "      <td>-0.107799</td>\n",
       "      <td>0.079502</td>\n",
       "      <td>-0.061047</td>\n",
       "    </tr>\n",
       "    <tr>\n",
       "      <th>NOX</th>\n",
       "      <td>0.437684</td>\n",
       "      <td>-0.527536</td>\n",
       "      <td>0.757107</td>\n",
       "      <td>0.032281</td>\n",
       "      <td>1.000000</td>\n",
       "      <td>-0.304220</td>\n",
       "      <td>0.743162</td>\n",
       "      <td>-0.774841</td>\n",
       "      <td>0.635081</td>\n",
       "      <td>0.693064</td>\n",
       "      <td>0.199779</td>\n",
       "      <td>-0.384622</td>\n",
       "      <td>0.596475</td>\n",
       "    </tr>\n",
       "    <tr>\n",
       "      <th>RM</th>\n",
       "      <td>-0.196545</td>\n",
       "      <td>0.348199</td>\n",
       "      <td>-0.405883</td>\n",
       "      <td>0.107340</td>\n",
       "      <td>-0.304220</td>\n",
       "      <td>1.000000</td>\n",
       "      <td>-0.261999</td>\n",
       "      <td>0.204028</td>\n",
       "      <td>-0.197837</td>\n",
       "      <td>-0.290858</td>\n",
       "      <td>-0.379197</td>\n",
       "      <td>0.140592</td>\n",
       "      <td>-0.620118</td>\n",
       "    </tr>\n",
       "    <tr>\n",
       "      <th>AGE</th>\n",
       "      <td>0.340676</td>\n",
       "      <td>-0.585812</td>\n",
       "      <td>0.635978</td>\n",
       "      <td>0.048548</td>\n",
       "      <td>0.743162</td>\n",
       "      <td>-0.261999</td>\n",
       "      <td>1.000000</td>\n",
       "      <td>-0.754547</td>\n",
       "      <td>0.444137</td>\n",
       "      <td>0.504211</td>\n",
       "      <td>0.244094</td>\n",
       "      <td>-0.253652</td>\n",
       "      <td>0.612759</td>\n",
       "    </tr>\n",
       "    <tr>\n",
       "      <th>DIS</th>\n",
       "      <td>-0.372582</td>\n",
       "      <td>0.656658</td>\n",
       "      <td>-0.699502</td>\n",
       "      <td>-0.071933</td>\n",
       "      <td>-0.774841</td>\n",
       "      <td>0.204028</td>\n",
       "      <td>-0.754547</td>\n",
       "      <td>1.000000</td>\n",
       "      <td>-0.479621</td>\n",
       "      <td>-0.536082</td>\n",
       "      <td>-0.203303</td>\n",
       "      <td>0.268693</td>\n",
       "      <td>-0.503193</td>\n",
       "    </tr>\n",
       "    <tr>\n",
       "      <th>RAD</th>\n",
       "      <td>0.625828</td>\n",
       "      <td>-0.313497</td>\n",
       "      <td>0.573361</td>\n",
       "      <td>-0.010475</td>\n",
       "      <td>0.635081</td>\n",
       "      <td>-0.197837</td>\n",
       "      <td>0.444137</td>\n",
       "      <td>-0.479621</td>\n",
       "      <td>1.000000</td>\n",
       "      <td>0.904438</td>\n",
       "      <td>0.447445</td>\n",
       "      <td>-0.446020</td>\n",
       "      <td>0.480207</td>\n",
       "    </tr>\n",
       "    <tr>\n",
       "      <th>TAX</th>\n",
       "      <td>0.578899</td>\n",
       "      <td>-0.329665</td>\n",
       "      <td>0.720073</td>\n",
       "      <td>-0.048810</td>\n",
       "      <td>0.693064</td>\n",
       "      <td>-0.290858</td>\n",
       "      <td>0.504211</td>\n",
       "      <td>-0.536082</td>\n",
       "      <td>0.904438</td>\n",
       "      <td>1.000000</td>\n",
       "      <td>0.453687</td>\n",
       "      <td>-0.436716</td>\n",
       "      <td>0.543012</td>\n",
       "    </tr>\n",
       "    <tr>\n",
       "      <th>PTRATIO</th>\n",
       "      <td>0.280752</td>\n",
       "      <td>-0.396806</td>\n",
       "      <td>0.390679</td>\n",
       "      <td>-0.107799</td>\n",
       "      <td>0.199779</td>\n",
       "      <td>-0.379197</td>\n",
       "      <td>0.244094</td>\n",
       "      <td>-0.203303</td>\n",
       "      <td>0.447445</td>\n",
       "      <td>0.453687</td>\n",
       "      <td>1.000000</td>\n",
       "      <td>-0.166981</td>\n",
       "      <td>0.378182</td>\n",
       "    </tr>\n",
       "    <tr>\n",
       "      <th>B</th>\n",
       "      <td>-0.331379</td>\n",
       "      <td>0.171123</td>\n",
       "      <td>-0.342290</td>\n",
       "      <td>0.079502</td>\n",
       "      <td>-0.384622</td>\n",
       "      <td>0.140592</td>\n",
       "      <td>-0.253652</td>\n",
       "      <td>0.268693</td>\n",
       "      <td>-0.446020</td>\n",
       "      <td>-0.436716</td>\n",
       "      <td>-0.166981</td>\n",
       "      <td>1.000000</td>\n",
       "      <td>-0.398180</td>\n",
       "    </tr>\n",
       "    <tr>\n",
       "      <th>LSTAT</th>\n",
       "      <td>0.464403</td>\n",
       "      <td>-0.428584</td>\n",
       "      <td>0.606026</td>\n",
       "      <td>-0.061047</td>\n",
       "      <td>0.596475</td>\n",
       "      <td>-0.620118</td>\n",
       "      <td>0.612759</td>\n",
       "      <td>-0.503193</td>\n",
       "      <td>0.480207</td>\n",
       "      <td>0.543012</td>\n",
       "      <td>0.378182</td>\n",
       "      <td>-0.398180</td>\n",
       "      <td>1.000000</td>\n",
       "    </tr>\n",
       "  </tbody>\n",
       "</table>\n",
       "</div>"
      ],
      "text/plain": [
       "             CRIM        ZN     INDUS      CHAS       NOX        RM       AGE  \\\n",
       "CRIM     1.000000 -0.203052  0.394004 -0.059438  0.437684 -0.196545  0.340676   \n",
       "ZN      -0.203052  1.000000 -0.534523 -0.024872 -0.527536  0.348199 -0.585812   \n",
       "INDUS    0.394004 -0.534523  1.000000  0.019945  0.757107 -0.405883  0.635978   \n",
       "CHAS    -0.059438 -0.024872  0.019945  1.000000  0.032281  0.107340  0.048548   \n",
       "NOX      0.437684 -0.527536  0.757107  0.032281  1.000000 -0.304220  0.743162   \n",
       "RM      -0.196545  0.348199 -0.405883  0.107340 -0.304220  1.000000 -0.261999   \n",
       "AGE      0.340676 -0.585812  0.635978  0.048548  0.743162 -0.261999  1.000000   \n",
       "DIS     -0.372582  0.656658 -0.699502 -0.071933 -0.774841  0.204028 -0.754547   \n",
       "RAD      0.625828 -0.313497  0.573361 -0.010475  0.635081 -0.197837  0.444137   \n",
       "TAX      0.578899 -0.329665  0.720073 -0.048810  0.693064 -0.290858  0.504211   \n",
       "PTRATIO  0.280752 -0.396806  0.390679 -0.107799  0.199779 -0.379197  0.244094   \n",
       "B       -0.331379  0.171123 -0.342290  0.079502 -0.384622  0.140592 -0.253652   \n",
       "LSTAT    0.464403 -0.428584  0.606026 -0.061047  0.596475 -0.620118  0.612759   \n",
       "\n",
       "              DIS       RAD       TAX   PTRATIO         B     LSTAT  \n",
       "CRIM    -0.372582  0.625828  0.578899  0.280752 -0.331379  0.464403  \n",
       "ZN       0.656658 -0.313497 -0.329665 -0.396806  0.171123 -0.428584  \n",
       "INDUS   -0.699502  0.573361  0.720073  0.390679 -0.342290  0.606026  \n",
       "CHAS    -0.071933 -0.010475 -0.048810 -0.107799  0.079502 -0.061047  \n",
       "NOX     -0.774841  0.635081  0.693064  0.199779 -0.384622  0.596475  \n",
       "RM       0.204028 -0.197837 -0.290858 -0.379197  0.140592 -0.620118  \n",
       "AGE     -0.754547  0.444137  0.504211  0.244094 -0.253652  0.612759  \n",
       "DIS      1.000000 -0.479621 -0.536082 -0.203303  0.268693 -0.503193  \n",
       "RAD     -0.479621  1.000000  0.904438  0.447445 -0.446020  0.480207  \n",
       "TAX     -0.536082  0.904438  1.000000  0.453687 -0.436716  0.543012  \n",
       "PTRATIO -0.203303  0.447445  0.453687  1.000000 -0.166981  0.378182  \n",
       "B        0.268693 -0.446020 -0.436716 -0.166981  1.000000 -0.398180  \n",
       "LSTAT   -0.503193  0.480207  0.543012  0.378182 -0.398180  1.000000  "
      ]
     },
     "execution_count": 12,
     "metadata": {},
     "output_type": "execute_result"
    }
   ],
   "source": [
    "X_train.corr()"
   ]
  },
  {
   "cell_type": "code",
   "execution_count": 13,
   "id": "9c1fefee",
   "metadata": {},
   "outputs": [
    {
     "data": {
      "image/png": "[encoded data removed]",
      "text/plain": [
       "<Figure size 864x720 with 2 Axes>"
      ]
     },
     "metadata": {
      "needs_background": "light"
     },
     "output_type": "display_data"
    }
   ],
   "source": [
    "# Pearson Correlation\n",
    "plt.figure(figsize=(12,10))\n",
    "corr = X_train.corr()\n",
    "sns.heatmap(corr,annot=True,cmap=plt.cm.CMRmap_r)\n",
    "plt.show()\n"
   ]
  },
  {
   "cell_type": "markdown",
   "id": "c72fbdf4",
   "metadata": {},
   "source": [
    "\n",
    "## Removing the highly correlated variables is one of the major way to reduce the dimension of the data"
   ]
  },
  {
   "cell_type": "markdown",
   "id": "1f2ca079",
   "metadata": {},
   "source": [
    "## The function to determine the highly correlated variables"
   ]
  },
  {
   "cell_type": "code",
   "execution_count": 14,
   "id": "90b0904a",
   "metadata": {},
   "outputs": [],
   "source": [
    "\n",
    "\n",
    "def correlation(dataset,threshold):\n",
    "    col_corr = set() # set of all the names of correlated columns\n",
    "    corr_matrix = dataset.corr()\n",
    "\n",
    "    for i in range(len(corr_matrix.columns)):\n",
    "        for j in range(i):\n",
    "            if abs(corr_matrix.iloc[i,j]>threshold):\n",
    "                col_name = corr_matrix.columns[i]\n",
    "                col_corr.add(col_name)\n",
    "    return col_corr\n",
    "\n",
    "    \n",
    "    "
   ]
  },
  {
   "cell_type": "code",
   "execution_count": 15,
   "id": "ef971351",
   "metadata": {},
   "outputs": [
    {
     "data": {
      "text/plain": [
       "3"
      ]
     },
     "execution_count": 15,
     "metadata": {},
     "output_type": "execute_result"
    }
   ],
   "source": [
    "corr_features = correlation(X_train,0.7)\n",
    "len(set(corr_features))"
   ]
  },
  {
   "cell_type": "code",
   "execution_count": 16,
   "id": "cf5f2c14",
   "metadata": {},
   "outputs": [
    {
     "data": {
      "text/plain": [
       "{'AGE', 'NOX', 'TAX'}"
      ]
     },
     "execution_count": 16,
     "metadata": {},
     "output_type": "execute_result"
    }
   ],
   "source": [
    "corr_features"
   ]
  },
  {
   "cell_type": "code",
   "execution_count": 17,
   "id": "baa43fd1",
   "metadata": {},
   "outputs": [],
   "source": [
    "X_train.drop(corr_features,axis=1,inplace=True)\n",
    "X_test.drop(corr_features,axis=1,inplace=True)"
   ]
  },
  {
   "cell_type": "code",
   "execution_count": 18,
   "id": "ee490447",
   "metadata": {},
   "outputs": [
    {
     "data": {
      "text/plain": [
       "(404, 10)"
      ]
     },
     "execution_count": 18,
     "metadata": {},
     "output_type": "execute_result"
    }
   ],
   "source": [
    "X_train.shape"
   ]
  },
  {
   "cell_type": "code",
   "execution_count": null,
   "id": "cfc431a3",
   "metadata": {},
   "outputs": [],
   "source": []
  },
  {
   "cell_type": "code",
   "execution_count": null,
   "id": "b0996db2",
   "metadata": {},
   "outputs": [],
   "source": []
  },
  {
   "cell_type": "code",
   "execution_count": null,
   "id": "4189021b",
   "metadata": {},
   "outputs": [],
   "source": []
  },
  {
   "cell_type": "code",
   "execution_count": null,
   "id": "b3f42183",
   "metadata": {},
   "outputs": [],
   "source": []
  },
  {
   "cell_type": "code",
   "execution_count": null,
   "id": "e3a04820",
   "metadata": {},
   "outputs": [],
   "source": []
  },
  {
   "cell_type": "code",
   "execution_count": null,
   "id": "a2d54766",
   "metadata": {},
   "outputs": [],
   "source": []
  },
  {
   "cell_type": "code",
   "execution_count": null,
   "id": "1bcd81fc",
   "metadata": {},
   "outputs": [],
   "source": []
  },
  {
   "cell_type": "code",
   "execution_count": null,
   "id": "885c8062",
   "metadata": {},
   "outputs": [],
   "source": []
  },
  {
   "cell_type": "code",
   "execution_count": null,
   "id": "a9926750",
   "metadata": {},
   "outputs": [],
   "source": []
  },
  {
   "cell_type": "code",
   "execution_count": null,
   "id": "790aa507",
   "metadata": {},
   "outputs": [],
   "source": []
  },
  {
   "cell_type": "code",
   "execution_count": null,
   "id": "63e7843a",
   "metadata": {},
   "outputs": [],
   "source": []
  },
  {
   "cell_type": "code",
   "execution_count": null,
   "id": "4022c359",
   "metadata": {},
   "outputs": [],
   "source": []
  },
  {
   "cell_type": "code",
   "execution_count": null,
   "id": "53209949",
   "metadata": {},
   "outputs": [],
   "source": []
  }
 ],
 "metadata": {
  "kernelspec": {
   "display_name": "Python 3 (ipykernel)",
   "language": "python",
   "name": "python3"
  },
  "language_info": {
   "codemirror_mode": {
    "name": "ipython",
    "version": 3
   },
   "file_extension": ".py",
   "mimetype": "text/x-python",
   "name": "python",
   "nbconvert_exporter": "python",
   "pygments_lexer": "ipython3",
   "version": "3.10.1"
  }
 },
 "nbformat": 4,
 "nbformat_minor": 5
}
